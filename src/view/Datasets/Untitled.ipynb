{
 "cells": [
  {
   "cell_type": "code",
   "execution_count": 5,
   "id": "eb696704",
   "metadata": {},
   "outputs": [
    {
     "name": "stdout",
     "output_type": "stream",
     "text": [
      "Colunas com 50% ou mais dos dados como 0:\n",
      "142\n"
     ]
    }
   ],
   "source": [
    "import pandas as pd\n",
    "\n",
    "# Carrega o dataset\n",
    "df = pd.read_csv('android_permissions.csv')\n",
    "\n",
    "# Lista as colunas onde 50% ou mais dos dados são 0\n",
    "columns_with_50_percent_zero = []\n",
    "\n",
    "# Percorre cada coluna do dataframe\n",
    "for column in df.columns:\n",
    "    zero_percentage = (df[column] == 0).mean()\n",
    "    if zero_percentage >= 0.9:\n",
    "        columns_with_50_percent_zero.append(column)\n",
    "\n",
    "# Exibe as colunas que atendem à condição\n",
    "print(\"Colunas com 50% ou mais dos dados como 0:\")\n",
    "print(len(columns_with_50_percent_zero))\n"
   ]
  },
  {
   "cell_type": "code",
   "execution_count": 3,
   "id": "8408a81c",
   "metadata": {},
   "outputs": [
    {
     "name": "stdout",
     "output_type": "stream",
     "text": [
      "Colunas com 50% ou mais dos dados como 0 (nos dados filtrados onde 'class' = 0):\n",
      "141\n"
     ]
    }
   ],
   "source": [
    "import pandas as pd\n",
    "\n",
    "# Carrega o dataset\n",
    "df = pd.read_csv('android_permissions.csv')\n",
    "\n",
    "# Filtra os dados onde a coluna 'class' é igual a 0\n",
    "filtered_df = df[df['class'] == 0]\n",
    "\n",
    "# Lista as colunas onde 50% ou mais dos dados são 0 (apenas nos dados filtrados)\n",
    "columns_with_50_percent_zero = []\n",
    "\n",
    "# Percorre cada coluna do dataframe filtrado\n",
    "for column in filtered_df.columns:\n",
    "    if column != 'class':  # Ignora a coluna 'class'\n",
    "        zero_percentage = (filtered_df[column] == 0).mean()\n",
    "        if zero_percentage >= 0.9:\n",
    "            columns_with_50_percent_zero.append(column)\n",
    "\n",
    "# Exibe as colunas que atendem à condição\n",
    "print(\"Colunas com 50% ou mais dos dados como 0 (nos dados filtrados onde 'class' = 0):\")\n",
    "print(len(columns_with_50_percent_zero))\n"
   ]
  },
  {
   "cell_type": "code",
   "execution_count": 4,
   "id": "32f891d5",
   "metadata": {},
   "outputs": [
    {
     "name": "stdout",
     "output_type": "stream",
     "text": [
      "Colunas com 100% dos dados como 0 (nos dados filtrados onde 'class' = 0):\n",
      "4\n"
     ]
    }
   ],
   "source": [
    "import pandas as pd\n",
    "\n",
    "# Carrega o dataset\n",
    "df = pd.read_csv('android_permissions.csv')\n",
    "\n",
    "# Filtra os dados onde a coluna 'class' é igual a 0\n",
    "filtered_df = df[df['class'] == 0]\n",
    "\n",
    "# Lista as colunas onde 100% dos dados são 0 (apenas nos dados filtrados)\n",
    "columns_with_100_percent_zero = []\n",
    "\n",
    "# Percorre cada coluna do dataframe filtrado\n",
    "for column in filtered_df.columns:\n",
    "    if column != 'class':  # Ignora a coluna 'class'\n",
    "        if (filtered_df[column] == 0).all():  # Verifica se todos os valores são 0\n",
    "            columns_with_100_percent_zero.append(column)\n",
    "\n",
    "# Exibe as colunas que atendem à condição\n",
    "print(\"Colunas com 100% dos dados como 0 (nos dados filtrados onde 'class' = 0):\")\n",
    "print(len(columns_with_100_percent_zero))\n"
   ]
  },
  {
   "cell_type": "code",
   "execution_count": null,
   "id": "acca8242",
   "metadata": {},
   "outputs": [],
   "source": []
  }
 ],
 "metadata": {
  "kernelspec": {
   "display_name": "Python 3 (ipykernel)",
   "language": "python",
   "name": "python3"
  },
  "language_info": {
   "codemirror_mode": {
    "name": "ipython",
    "version": 3
   },
   "file_extension": ".py",
   "mimetype": "text/x-python",
   "name": "python",
   "nbconvert_exporter": "python",
   "pygments_lexer": "ipython3",
   "version": "3.10.9"
  }
 },
 "nbformat": 4,
 "nbformat_minor": 5
}
